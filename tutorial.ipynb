{
	"cells": [{
			"cell_type": "code",
			"execution_count": 1,
			"id": "motivated-radar",
			"metadata": {},
			"outputs": [],
			"source": [
				"from fsutilz import *"
			]
		},
		{
			"cell_type": "markdown",
			"id": "innocent-latter",
			"metadata": {},
			"source": [
				"`MMap` allows you to use memory-mapped files very conveniently."
			]
		},
		{
			"cell_type": "code",
			"execution_count": 2,
			"id": "magnetic-yemen",
			"metadata": {},
			"outputs": [{
				"name": "stdout",
				"output_type": "stream",
				"text": [
					"b'fsutilz.py'\n"
				]
			}],
			"source": [
				"with MMap(Path(\"ReadMe.md\")) as m:\n",
				"    lineSplitPos = m.find(b\" \")\n",
				"    print(m[:lineSplitPos])"
			]
		},
		{
			"cell_type": "markdown",
			"id": "straight-gateway",
			"metadata": {},
			"source": [
				"`isNestedIn` checks if one path is contained within another."
			]
		},
		{
			"cell_type": "code",
			"execution_count": 3,
			"id": "eight-compensation",
			"metadata": {},
			"outputs": [{
				"data": {
					"text/plain": [
						"True"
					]
				},
				"execution_count": 3,
				"metadata": {},
				"output_type": "execute_result"
			}],
			"source": [
				"isNestedIn(Path(\"/usr\"), Path(\"/usr/share\"))"
			]
		},
		{
			"cell_type": "code",
			"execution_count": 4,
			"id": "married-judges",
			"metadata": {},
			"outputs": [{
				"data": {
					"text/plain": [
						"False"
					]
				},
				"execution_count": 4,
				"metadata": {},
				"output_type": "execute_result"
			}],
			"source": [
				"isNestedIn(Path(\"/usr/share\"), Path(\"/usr\"))"
			]
		},
		{
			"cell_type": "code",
			"execution_count": 5,
			"id": "vanilla-coverage",
			"metadata": {},
			"outputs": [{
				"data": {
					"text/plain": [
						"True"
					]
				},
				"execution_count": 5,
				"metadata": {},
				"output_type": "execute_result"
			}],
			"source": [
				"isNestedIn(Path(\"/usr/local/../\"), Path(\"/usr/share/locale\"))"
			]
		},
		{
			"cell_type": "code",
			"execution_count": 6,
			"id": "medieval-federation",
			"metadata": {},
			"outputs": [{
				"data": {
					"text/plain": [
						"False"
					]
				},
				"execution_count": 6,
				"metadata": {},
				"output_type": "execute_result"
			}],
			"source": [
				"isNestedIn(Path(\"/usr/local/\"), Path(\"/usr/local/../shit\"))"
			]
		},
		{
			"cell_type": "markdown",
			"id": "expired-private",
			"metadata": {},
			"source": [
				"`nestPath` nests one path into another and **tries to prevent** dir traversal."
			]
		},
		{
			"cell_type": "code",
			"execution_count": 7,
			"id": "atlantic-destruction",
			"metadata": {},
			"outputs": [{
				"data": {
					"text/plain": [
						"PosixPath('/usr/share/locale')"
					]
				},
				"execution_count": 7,
				"metadata": {},
				"output_type": "execute_result"
			}],
			"source": [
				"nestPath(Path(\"/usr\"), Path(\"/share/locale\"))\n",
				"#nestPath(Path(\"/usr\"), Path(\"../bin\"))  # Path is out of root"
			]
		},
		{
			"cell_type": "code",
			"execution_count": 8,
			"id": "wanted-chancellor",
			"metadata": {},
			"outputs": [{
				"data": {
					"text/plain": [
						"PosixPath('/usr/../usr')"
					]
				},
				"execution_count": 8,
				"metadata": {},
				"output_type": "execute_result"
			}],
			"source": [
				"nestPath(Path(\"/usr\"), Path(\"../usr\"))  # OK"
			]
		},
		{
			"cell_type": "markdown",
			"id": "metropolitan-yacht",
			"metadata": {},
			"source": [
				"`isGlobPattern` checks if a path looks like a glob pattern."
			]
		},
		{
			"cell_type": "code",
			"execution_count": 9,
			"id": "dominant-inventory",
			"metadata": {},
			"outputs": [{
				"data": {
					"text/plain": [
						"True"
					]
				},
				"execution_count": 9,
				"metadata": {},
				"output_type": "execute_result"
			}],
			"source": [
				"isGlobPattern(Path(\"*.png\"))"
			]
		},
		{
			"cell_type": "code",
			"execution_count": 10,
			"id": "historical-grave",
			"metadata": {},
			"outputs": [{
				"data": {
					"text/plain": [
						"False"
					]
				},
				"execution_count": 10,
				"metadata": {},
				"output_type": "execute_result"
			}],
			"source": [
				"isGlobPattern(Path(\"a.png\"))"
			]
		},
		{
			"cell_type": "markdown",
			"id": "potential-caribbean",
			"metadata": {},
			"source": [
				"`symlink` is just a smarter alternative to `os.symlink`, that works with paths and allows to make relative symlinks."
			]
		},
		{
			"cell_type": "markdown",
			"id": "blessed-circulation",
			"metadata": {},
			"source": [
				"`copytree` and `movetree` just work as expected."
			]
		}
	],
	"metadata": {
		"kernelspec": {
			"display_name": "Python 3",
			"language": "python",
			"name": "python3"
		},
		"language_info": {
			"codemirror_mode": {
				"name": "ipython",
				"version": 3
			},
			"file_extension": ".py",
			"mimetype": "text/x-python",
			"name": "python",
			"nbconvert_exporter": "python",
			"pygments_lexer": "ipython3",
			"version": "3.9.7"
		}
	},
	"nbformat": 4,
	"nbformat_minor": 5
}
